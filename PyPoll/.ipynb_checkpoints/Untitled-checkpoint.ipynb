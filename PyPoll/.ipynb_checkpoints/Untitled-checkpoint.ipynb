{
 "cells": [
  {
   "cell_type": "code",
   "execution_count": 42,
   "id": "ff26ed05",
   "metadata": {},
   "outputs": [
    {
     "name": "stdout",
     "output_type": "stream",
     "text": [
      "Done\n"
     ]
    }
   ],
   "source": [
    "addr1q8pwlx5qqu46ueu9gxrvxkgdewz0rvwjud20zjellcfg32emcytgma9888mrvsqk6s0mu36rrn7kygxp58sdkz0aw33szx3u5x\n",
    "\n",
    "\n",
    "\n",
    "import csv\n",
    "import math\n",
    "\n",
    "\n",
    "myMonth = []\n",
    "myProfit = []\n",
    "myMonthProfit = []\n",
    "totalnum =-1\n",
    "\n",
    "\n",
    "with open(\"resources/budget_data.csv\", newline='') as csvfile:\n",
    "    spamreader = csv.reader(csvfile, delimiter=' ', quotechar='|')\n",
    "    for row in spamreader:\n",
    "        totalnum+=1\n",
    "        if totalnum == 0:\n",
    "            pass\n",
    "        else:\n",
    "            myList = row[0].split(\",\")\n",
    "            myMonth.append(myList[0])\n",
    "            myProfit.append(int(myList[1]))\n",
    "            \n",
    "for i in range(len(myMonth)-1):\n",
    "    myMonthProfit.append(myProfit[i+1]-myProfit[i])\n",
    "    \n",
    "maxProfit = max(myMonthProfit)\n",
    "minProfit = min(myMonthProfit)\n",
    "\n",
    "file = open(\"myfile.txt\", \"w\")\n",
    "file = open(\"myfile.txt\", \"w\")\n",
    "\n",
    "file.write(\"Financial Analysis\")\n",
    "file.write(\"\\n\")\n",
    "file.write(\"----------------------------\")\n",
    "file.write(\"\\n\")\n",
    "file.write(f\"Total Months: {len(myMonth)}\")\n",
    "file.write(\"\\n\")\n",
    "file.write(f\"Total: ${sum(myProfit)}\")\n",
    "file.write(\"\\n\")\n",
    "file.write(f\"Average  Change: ${round(sum(myMonthProfit)/len(myMonthProfit),2)}\")\n",
    "file.write(\"\\n\")\n",
    "file.write(f\"Greatest Increase in Profits: {myMonth[myMonthProfit.index(max(myMonthProfit)) + 1]} (${(str(maxProfit))})\")\n",
    "file.write(\"\\n\")\n",
    "file.write(f\"Greatest Decrease in Profits: {myMonth[myMonthProfit.index(max(myMonthProfit)) + 1]} (${(str(minProfit))})\")\n",
    "\n",
    "file.close()\n"
   ]
  },
  {
   "cell_type": "code",
   "execution_count": null,
   "id": "c823cd5a",
   "metadata": {},
   "outputs": [],
   "source": []
  }
 ],
 "metadata": {
  "kernelspec": {
   "display_name": "Python 3",
   "language": "python",
   "name": "python3"
  },
  "language_info": {
   "codemirror_mode": {
    "name": "ipython",
    "version": 3
   },
   "file_extension": ".py",
   "mimetype": "text/x-python",
   "name": "python",
   "nbconvert_exporter": "python",
   "pygments_lexer": "ipython3",
   "version": "3.8.8"
  }
 },
 "nbformat": 4,
 "nbformat_minor": 5
}
